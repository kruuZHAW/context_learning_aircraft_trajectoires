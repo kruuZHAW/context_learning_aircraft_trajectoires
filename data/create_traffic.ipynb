{
 "cells": [
  {
   "cell_type": "code",
   "execution_count": 5,
   "metadata": {},
   "outputs": [],
   "source": [
    "import os\n",
    "import glob\n",
    "from pathlib import Path\n",
    "os.chdir(\"/home/kruu/git_folder/context_learning_aircraft_trajectoires/data\")\n",
    "\n",
    "import pandas as pd\n",
    "from tqdm.auto import tqdm\n",
    "from utils import adsb\n",
    "from traffic.core import Traffic, Flight\n",
    "\n",
    "import matplotlib.pyplot as plt"
   ]
  },
  {
   "cell_type": "markdown",
   "metadata": {},
   "source": [
    "****\n",
    "### Combine raw data\n",
    "****"
   ]
  },
  {
   "cell_type": "code",
   "execution_count": 2,
   "metadata": {},
   "outputs": [
    {
     "name": "stderr",
     "output_type": "stream",
     "text": [
      "100%|██████████| 36/36 [01:18<00:00,  2.19s/it]\n"
     ]
    }
   ],
   "source": [
    "path_raw = f\"/mnt/beegfs/store/kruu/context_learning/datasets/01_LFPO-LFBO\"\n",
    "path_combined = f\"/mnt/beegfs/store/kruu/context_learning/datasets/02_LFPO-LFBO_combined\"\n",
    "\n",
    "adsb.combine_adsb(path_raw = path_raw, path_combined = path_combined)"
   ]
  },
  {
   "cell_type": "markdown",
   "metadata": {},
   "source": [
    "****\n",
    "### Processing adsb data\n",
    "****"
   ]
  },
  {
   "cell_type": "markdown",
   "metadata": {},
   "source": [
    "#### Take airborne + filter outliers"
   ]
  },
  {
   "cell_type": "code",
   "execution_count": 2,
   "metadata": {},
   "outputs": [],
   "source": [
    "path_combined = f\"/mnt/beegfs/store/kruu/context_learning/datasets/02_LFPO-LFBO_combined\"\n",
    "path_processed = f\"/mnt/beegfs/store/kruu/context_learning/datasets/03_LFPO-LFBO_processed\"\n",
    "files = glob.glob(f\"{path_combined}/*.parquet\")"
   ]
  },
  {
   "cell_type": "code",
   "execution_count": 3,
   "metadata": {},
   "outputs": [],
   "source": [
    "# Delete trajectories with ovious outlier positions\n",
    "# 800 Nm seems a good compromise\n",
    "\n",
    "def delete_outliers(flight, threshold = 800):\n",
    "    if flight.query(f\"cumdist > {threshold}\"):\n",
    "        return None\n",
    "    else:\n",
    "        return flight"
   ]
  },
  {
   "cell_type": "code",
   "execution_count": null,
   "metadata": {},
   "outputs": [],
   "source": [
    "# Process each file\n",
    "for file in files:\n",
    "    # Info about file being processed\n",
    "    year, month = file.split(os.sep)[-1].split(\".\")[0].split(\"_\")\n",
    "    print(f\"Processing {year}/{month}\")\n",
    "    check_file = Path(f\"{path_processed}/{year}_{month}.parquet\")\n",
    "    if check_file.is_file() is False:\n",
    "        # Load monthly file\n",
    "        t = Traffic.from_file(file)\n",
    "        # Preprocess\n",
    "        t = (\n",
    "            t\n",
    "            .assign_id()\n",
    "            .airborne()\n",
    "            .cumulative_distance()\n",
    "            .pipe(delete_outliers)\n",
    "            .eval(max_workers = 30)\n",
    "        )\n",
    "        # Save\n",
    "        if not os.path.exists(f\"{path_processed}\"):\n",
    "            os.makedirs(f\"{path_processed}\")\n",
    "        t.to_parquet(f\"{path_processed}/{year}_{month}.parquet\")"
   ]
  },
  {
   "cell_type": "markdown",
   "metadata": {},
   "source": [
    "#### Merging traffics"
   ]
  },
  {
   "cell_type": "code",
   "execution_count": 9,
   "metadata": {},
   "outputs": [],
   "source": [
    "path_processed = f\"/mnt/beegfs/store/kruu/context_learning/datasets/03_LFPO-LFBO_processed\"\n",
    "\n",
    "files = glob.glob(\n",
    "    \"/mnt/beegfs/store/kruu/context_learning/datasets/03_LFPO-LFBO_processed/*.parquet\"\n",
    ")\n",
    "\n",
    "path_save = f\"/mnt/beegfs/store/kruu/context_learning/datasets/04_LFPO-LFBO_merged\""
   ]
  },
  {
   "cell_type": "code",
   "execution_count": 13,
   "metadata": {},
   "outputs": [
    {
     "name": "stderr",
     "output_type": "stream",
     "text": [
      "Loading files: 100%|██████████| 33/33 [00:36<00:00,  1.11s/it]\n"
     ]
    }
   ],
   "source": [
    "#merging all traffics\n",
    "\n",
    "merged_traffic = Traffic(\n",
    "    pd.concat(\n",
    "        [\n",
    "            Traffic.from_file(file).data\n",
    "            for file in tqdm(files, desc = \"Loading files\")\n",
    "        ],\n",
    "        ignore_index=True,\n",
    "    )\n",
    ")\n",
    "\n",
    "if not os.path.exists(f\"{path_save}\"):\n",
    "    os.makedirs(f\"{path_save}\")\n",
    "\n",
    "merged_traffic.to_parquet(\n",
    "    f\"{path_save}/all_flights.parquet\"\n",
    ")"
   ]
  },
  {
   "cell_type": "code",
   "execution_count": 119,
   "metadata": {},
   "outputs": [],
   "source": [
    "# #eurofirs[\"LFFF\"] and eurofirs[\"LFBB\"]\n",
    "\n",
    "# from cartes.crs import LambertConformal\n",
    "# from cartes.utils.features import countries, lakes, ocean\n",
    "\n",
    "# from traffic.data import eurofirs, airports\n",
    "\n",
    "# fig, ax = plt.subplots(\n",
    "#     1, 1, dpi=300,\n",
    "#     subplot_kw=dict(projection=LambertConformal(10, 45)),\n",
    "# )\n",
    "\n",
    "# title_style = dict(loc=\"left\", fontsize=12, fontweight=200)\n",
    "\n",
    "# ax.set_extent((-1, 4, 43 , 49))\n",
    "\n",
    "# ax.add_feature(countries(scale=\"50m\"))\n",
    "# ax.add_feature(lakes(scale=\"50m\"))\n",
    "# ax.add_feature(ocean(scale=\"50m\"))\n",
    "\n",
    "# ax.spines[\"geo\"].set_visible(False)\n",
    "\n",
    "# for fir in eurofirs:\n",
    "#     fir.plot(ax, color=\"#4c78a833\")\n",
    "#     fir.plot(ax, edgecolor=\"#4c78a8\")\n",
    "\n",
    "# airports[\"LFPO\"].point.plot(ax, text_kw=dict(s=\"  Paris\", fontsize=8))\n",
    "# airports[\"LFBO\"].point.plot(ax, text_kw=dict(s=\"  Toulouse\", fontsize=8))\n",
    "\n",
    "# outliers.plot(ax, color=\"#f58518\", alpha = 0.3)\n",
    "# ax.set_title(\"LFPO to LFBO 2022.12\", **title_style)\n",
    "\n",
    "# fig.set_tight_layout(True)\n",
    "\n",
    "# fig.show()\n",
    "# fig.savefig(\"observed_traffic.png\", transparent=False)"
   ]
  }
 ],
 "metadata": {
  "kernelspec": {
   "display_name": "Poetry via SLURM context_learning",
   "language": "python",
   "name": "jupyter-eg-kernel-slurm-py39-poetry-1i4jb6117"
  }
 },
 "nbformat": 4,
 "nbformat_minor": 2
}
