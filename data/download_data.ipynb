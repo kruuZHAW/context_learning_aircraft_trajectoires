{
 "cells": [
  {
   "cell_type": "code",
   "execution_count": 1,
   "metadata": {},
   "outputs": [],
   "source": [
    "import os\n",
    "os.chdir(\"/home/kruu/git_folder/context_learning_aircraft_trajectoires/data\")\n",
    "\n",
    "from utils import adsb\n"
   ]
  },
  {
   "cell_type": "code",
   "execution_count": null,
   "metadata": {},
   "outputs": [],
   "source": [
    "adsb.download_adsb_para(\n",
    "    start=f\"2021-01-01 00:00\",\n",
    "    stop=f\"2024-01-01 00:00\",\n",
    "    folder=f\"/mnt/beegfs/store/kruu/context_learning/datasets/01_LFPO-LFBO\",\n",
    "    departure_airport=\"LFPO\",\n",
    "    arrival_airport=\"LFBO\",\n",
    "    max_process=8,\n",
    ")"
   ]
  },
  {
   "cell_type": "code",
   "execution_count": null,
   "metadata": {},
   "outputs": [],
   "source": []
  }
 ],
 "metadata": {
  "kernelspec": {
   "display_name": "Poetry via SLURM miar",
   "language": "python",
   "name": "jupyter-eg-kernel-slurm-py39-poetry-1i0qbhitm"
  }
 },
 "nbformat": 4,
 "nbformat_minor": 2
}
