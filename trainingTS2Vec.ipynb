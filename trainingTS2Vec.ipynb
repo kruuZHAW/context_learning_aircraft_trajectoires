{
 "cells": [
  {
   "cell_type": "code",
   "execution_count": 2,
   "metadata": {},
   "outputs": [],
   "source": [
    "import os\n",
    "os.chdir(\"/home/kruu/git_folder/context_learning_aircraft_trajectoires\")\n",
    "\n",
    "from ts2vec import TS2Vec\n",
    "import datautils"
   ]
  },
  {
   "cell_type": "code",
   "execution_count": 3,
   "metadata": {},
   "outputs": [],
   "source": [
    "data_path = \"/mnt/beegfs/store/kruu/context_learning/datasets/05_LFPO-LFBO_samples/inputs.npy\"\n",
    "train, test = datautils.load_traj(data_path, train_test=True)"
   ]
  },
  {
   "cell_type": "code",
   "execution_count": 4,
   "metadata": {},
   "outputs": [],
   "source": [
    "model = TS2Vec(\n",
    "    input_dims=train.shape[-1],\n",
    "    device = \"cpu\",\n",
    "    hidden_dims = 16,\n",
    "    output_dims = 32,\n",
    "    depth = 2,\n",
    "    batch_size= 16,\n",
    "    temporal_unit = 3,\n",
    "    \n",
    ")"
   ]
  },
  {
   "cell_type": "code",
   "execution_count": 7,
   "metadata": {},
   "outputs": [
    {
     "name": "stderr",
     "output_type": "stream",
     "text": [
      "100%|██████████| 655/655 [13:55<00:00,  1.28s/it]\n"
     ]
    },
    {
     "name": "stdout",
     "output_type": "stream",
     "text": [
      "Epoch #0: loss=2.0138953625700857\n"
     ]
    },
    {
     "name": "stderr",
     "output_type": "stream",
     "text": [
      "100%|██████████| 655/655 [13:59<00:00,  1.28s/it]\n"
     ]
    },
    {
     "name": "stdout",
     "output_type": "stream",
     "text": [
      "Epoch #1: loss=1.830430814419084\n"
     ]
    },
    {
     "name": "stderr",
     "output_type": "stream",
     "text": [
      "100%|██████████| 655/655 [13:12<00:00,  1.21s/it]\n"
     ]
    },
    {
     "name": "stdout",
     "output_type": "stream",
     "text": [
      "Epoch #2: loss=1.737085230932891\n"
     ]
    },
    {
     "name": "stderr",
     "output_type": "stream",
     "text": [
      "100%|██████████| 655/655 [13:32<00:00,  1.24s/it]\n"
     ]
    },
    {
     "name": "stdout",
     "output_type": "stream",
     "text": [
      "Epoch #3: loss=1.7072090595733118\n"
     ]
    },
    {
     "name": "stderr",
     "output_type": "stream",
     "text": [
      "100%|██████████| 655/655 [13:49<00:00,  1.27s/it]\n"
     ]
    },
    {
     "name": "stdout",
     "output_type": "stream",
     "text": [
      "Epoch #4: loss=1.668685070157961\n"
     ]
    },
    {
     "name": "stderr",
     "output_type": "stream",
     "text": [
      "100%|██████████| 655/655 [13:42<00:00,  1.26s/it]\n"
     ]
    },
    {
     "name": "stdout",
     "output_type": "stream",
     "text": [
      "Epoch #5: loss=1.6166376337750268\n"
     ]
    },
    {
     "name": "stderr",
     "output_type": "stream",
     "text": [
      "100%|██████████| 655/655 [13:23<00:00,  1.23s/it]\n"
     ]
    },
    {
     "name": "stdout",
     "output_type": "stream",
     "text": [
      "Epoch #6: loss=1.6238944280238552\n"
     ]
    },
    {
     "name": "stderr",
     "output_type": "stream",
     "text": [
      "100%|██████████| 655/655 [13:14<00:00,  1.21s/it]\n"
     ]
    },
    {
     "name": "stdout",
     "output_type": "stream",
     "text": [
      "Epoch #7: loss=1.5562683686045289\n"
     ]
    },
    {
     "name": "stderr",
     "output_type": "stream",
     "text": [
      "100%|██████████| 655/655 [14:06<00:00,  1.29s/it]\n"
     ]
    },
    {
     "name": "stdout",
     "output_type": "stream",
     "text": [
      "Epoch #8: loss=1.592249461712728\n"
     ]
    },
    {
     "name": "stderr",
     "output_type": "stream",
     "text": [
      "100%|██████████| 655/655 [13:13<00:00,  1.21s/it]\n"
     ]
    },
    {
     "name": "stdout",
     "output_type": "stream",
     "text": [
      "Epoch #9: loss=1.558223415695074\n"
     ]
    },
    {
     "name": "stderr",
     "output_type": "stream",
     "text": [
      "100%|██████████| 655/655 [13:32<00:00,  1.24s/it]\n"
     ]
    },
    {
     "name": "stdout",
     "output_type": "stream",
     "text": [
      "Epoch #10: loss=1.5301320395396867\n"
     ]
    },
    {
     "name": "stderr",
     "output_type": "stream",
     "text": [
      "100%|██████████| 655/655 [13:30<00:00,  1.24s/it]\n"
     ]
    },
    {
     "name": "stdout",
     "output_type": "stream",
     "text": [
      "Epoch #11: loss=1.5235018084067424\n"
     ]
    },
    {
     "name": "stderr",
     "output_type": "stream",
     "text": [
      "100%|██████████| 655/655 [13:23<00:00,  1.23s/it]\n"
     ]
    },
    {
     "name": "stdout",
     "output_type": "stream",
     "text": [
      "Epoch #12: loss=1.52363164634195\n"
     ]
    },
    {
     "name": "stderr",
     "output_type": "stream",
     "text": [
      "100%|██████████| 655/655 [13:35<00:00,  1.25s/it]\n"
     ]
    },
    {
     "name": "stdout",
     "output_type": "stream",
     "text": [
      "Epoch #13: loss=1.5245749323422673\n"
     ]
    },
    {
     "name": "stderr",
     "output_type": "stream",
     "text": [
      "100%|██████████| 655/655 [13:16<00:00,  1.22s/it]\n"
     ]
    },
    {
     "name": "stdout",
     "output_type": "stream",
     "text": [
      "Epoch #14: loss=1.5014893294290732\n"
     ]
    },
    {
     "name": "stderr",
     "output_type": "stream",
     "text": [
      "100%|██████████| 655/655 [13:29<00:00,  1.24s/it]\n"
     ]
    },
    {
     "name": "stdout",
     "output_type": "stream",
     "text": [
      "Epoch #15: loss=1.5116005533524142\n"
     ]
    },
    {
     "name": "stderr",
     "output_type": "stream",
     "text": [
      "100%|██████████| 655/655 [13:55<00:00,  1.28s/it]\n"
     ]
    },
    {
     "name": "stdout",
     "output_type": "stream",
     "text": [
      "Epoch #16: loss=1.4810894327309296\n"
     ]
    },
    {
     "name": "stderr",
     "output_type": "stream",
     "text": [
      "100%|██████████| 655/655 [13:45<00:00,  1.26s/it]\n"
     ]
    },
    {
     "name": "stdout",
     "output_type": "stream",
     "text": [
      "Epoch #17: loss=1.5174822186695711\n"
     ]
    },
    {
     "name": "stderr",
     "output_type": "stream",
     "text": [
      "100%|██████████| 655/655 [13:09<00:00,  1.21s/it]\n"
     ]
    },
    {
     "name": "stdout",
     "output_type": "stream",
     "text": [
      "Epoch #18: loss=1.4712118476401759\n"
     ]
    },
    {
     "name": "stderr",
     "output_type": "stream",
     "text": [
      "100%|██████████| 655/655 [13:27<00:00,  1.23s/it]"
     ]
    },
    {
     "name": "stdout",
     "output_type": "stream",
     "text": [
      "Epoch #19: loss=1.4773059656601826\n"
     ]
    },
    {
     "name": "stderr",
     "output_type": "stream",
     "text": [
      "\n"
     ]
    }
   ],
   "source": [
    "loss_log = model.fit(\n",
    "    train,\n",
    "    n_epochs = 20,\n",
    "    verbose=True\n",
    ")"
   ]
  },
  {
   "cell_type": "code",
   "execution_count": 8,
   "metadata": {},
   "outputs": [
    {
     "data": {
      "text/plain": [
       "[2.0138953625700857,\n",
       " 1.830430814419084,\n",
       " 1.737085230932891,\n",
       " 1.7072090595733118,\n",
       " 1.668685070157961,\n",
       " 1.6166376337750268,\n",
       " 1.6238944280238552,\n",
       " 1.5562683686045289,\n",
       " 1.592249461712728,\n",
       " 1.558223415695074,\n",
       " 1.5301320395396867,\n",
       " 1.5235018084067424,\n",
       " 1.52363164634195,\n",
       " 1.5245749323422673,\n",
       " 1.5014893294290732,\n",
       " 1.5116005533524142,\n",
       " 1.4810894327309296,\n",
       " 1.5174822186695711,\n",
       " 1.4712118476401759,\n",
       " 1.4773059656601826]"
      ]
     },
     "execution_count": 8,
     "metadata": {},
     "output_type": "execute_result"
    }
   ],
   "source": [
    "loss_log"
   ]
  },
  {
   "cell_type": "code",
   "execution_count": 10,
   "metadata": {},
   "outputs": [
    {
     "data": {
      "text/plain": [
       "(2620, 8140, 32)"
      ]
     },
     "execution_count": 10,
     "metadata": {},
     "output_type": "execute_result"
    }
   ],
   "source": [
    "model.encode(test).shape"
   ]
  },
  {
   "cell_type": "code",
   "execution_count": 11,
   "metadata": {},
   "outputs": [],
   "source": [
    "model.save(\"test_model.ckpt\")"
   ]
  },
  {
   "cell_type": "code",
   "execution_count": 14,
   "metadata": {},
   "outputs": [
    {
     "name": "stderr",
     "output_type": "stream",
     "text": [
      "/mnt/beegfs/home/kruu/git_folder/context_learning_aircraft_trajectoires/ts2vec.py:318: FutureWarning: You are using `torch.load` with `weights_only=False` (the current default value), which uses the default pickle module implicitly. It is possible to construct malicious pickle data which will execute arbitrary code during unpickling (See https://github.com/pytorch/pytorch/blob/main/SECURITY.md#untrusted-models for more details). In a future release, the default value for `weights_only` will be flipped to `True`. This limits the functions that could be executed during unpickling. Arbitrary objects will no longer be allowed to be loaded via this mode unless they are explicitly allowlisted by the user via `torch.serialization.add_safe_globals`. We recommend you start setting `weights_only=True` for any use case where you don't have full control of the loaded file. Please open an issue on GitHub for any issues related to this experimental feature.\n",
      "  state_dict = torch.load(fn, map_location=self.device)\n"
     ]
    }
   ],
   "source": [
    "model1 = TS2Vec(\n",
    "    input_dims=train.shape[-1],\n",
    "    device = \"cpu\",\n",
    "    hidden_dims = 16,\n",
    "    output_dims = 32,\n",
    "    depth = 2,\n",
    "    batch_size= 16,\n",
    "    temporal_unit = 3,\n",
    "    \n",
    ")\n",
    "\n",
    "model1.load(\"test_model.ckpt\")"
   ]
  },
  {
   "cell_type": "code",
   "execution_count": 15,
   "metadata": {},
   "outputs": [
    {
     "data": {
      "text/plain": [
       "array([[[-0.25194827, -0.38466758, -0.5553652 , ..., -0.7577436 ,\n",
       "         -0.2526967 , -0.54444146],\n",
       "        [-0.2798922 , -0.45291826, -0.46686503, ..., -0.7656735 ,\n",
       "         -0.2613182 , -0.5399987 ],\n",
       "        [-0.33052492, -0.4759184 , -0.35048223, ..., -0.874994  ,\n",
       "         -0.23366323, -0.5795136 ],\n",
       "        ...,\n",
       "        [ 0.5895142 ,  0.46175838, -0.04697297, ..., -0.18553887,\n",
       "         -0.15179548, -0.3481729 ],\n",
       "        [ 0.611561  ,  0.45008704, -0.07461773, ..., -0.15727508,\n",
       "         -0.11098201, -0.39729428],\n",
       "        [ 0.6124302 ,  0.41497627, -0.03895677, ..., -0.1086052 ,\n",
       "         -0.07638364, -0.40083417]],\n",
       "\n",
       "       [[ 0.06641015, -0.13922855, -0.28518328, ..., -0.10977992,\n",
       "         -0.1635969 , -0.3861475 ],\n",
       "        [ 0.09193525, -0.11696619, -0.35717708, ..., -0.06600517,\n",
       "         -0.22042173, -0.39781398],\n",
       "        [ 0.07749516, -0.05077448, -0.40439627, ..., -0.02736235,\n",
       "         -0.17929965, -0.39612126],\n",
       "        ...,\n",
       "        [ 0.5895142 ,  0.46175838, -0.04697297, ..., -0.18553887,\n",
       "         -0.15179548, -0.3481729 ],\n",
       "        [ 0.611561  ,  0.45008704, -0.07461773, ..., -0.15727508,\n",
       "         -0.11098201, -0.39729428],\n",
       "        [ 0.6124302 ,  0.41497627, -0.03895677, ..., -0.1086052 ,\n",
       "         -0.07638364, -0.40083417]],\n",
       "\n",
       "       [[-0.11823411, -0.12233555, -0.756897  , ..., -0.19760007,\n",
       "          0.5725999 , -0.8859608 ],\n",
       "        [-0.07380909, -0.09604025, -0.88088983, ..., -0.22401515,\n",
       "          0.65207064, -0.8902897 ],\n",
       "        [-0.12416239, -0.06548086, -0.88736737, ..., -0.24444073,\n",
       "          0.71896076, -0.8035014 ],\n",
       "        ...,\n",
       "        [ 0.5895142 ,  0.46175838, -0.04697297, ..., -0.18553887,\n",
       "         -0.15179548, -0.3481729 ],\n",
       "        [ 0.611561  ,  0.45008704, -0.07461773, ..., -0.15727508,\n",
       "         -0.11098201, -0.39729428],\n",
       "        [ 0.6124302 ,  0.41497627, -0.03895677, ..., -0.1086052 ,\n",
       "         -0.07638364, -0.40083417]],\n",
       "\n",
       "       ...,\n",
       "\n",
       "       [[-0.07795197,  0.02840238, -0.42752117, ..., -0.2215829 ,\n",
       "         -0.47442454, -0.6190999 ],\n",
       "        [-0.10818543,  0.00632832, -0.4583194 , ..., -0.18263379,\n",
       "         -0.5244424 , -0.62678623],\n",
       "        [-0.20646524,  0.0692857 , -0.43960235, ..., -0.14994003,\n",
       "         -0.5040972 , -0.45222   ],\n",
       "        ...,\n",
       "        [ 0.5895142 ,  0.46175838, -0.04697297, ..., -0.18553887,\n",
       "         -0.15179548, -0.3481729 ],\n",
       "        [ 0.611561  ,  0.45008704, -0.07461773, ..., -0.15727508,\n",
       "         -0.11098201, -0.39729428],\n",
       "        [ 0.6124302 ,  0.41497627, -0.03895677, ..., -0.1086052 ,\n",
       "         -0.07638364, -0.40083417]],\n",
       "\n",
       "       [[-0.11053863, -0.12434152, -0.77328205, ..., -0.23599258,\n",
       "          0.6029001 , -0.88762075],\n",
       "        [-0.06550822, -0.09760126, -0.8997179 , ..., -0.2637523 ,\n",
       "          0.680907  , -0.8909823 ],\n",
       "        [-0.11361156, -0.06582889, -0.9089627 , ..., -0.28822505,\n",
       "          0.7509113 , -0.80451506],\n",
       "        ...,\n",
       "        [ 0.5895142 ,  0.46175838, -0.04697297, ..., -0.18553887,\n",
       "         -0.15179548, -0.3481729 ],\n",
       "        [ 0.611561  ,  0.45008704, -0.07461773, ..., -0.15727508,\n",
       "         -0.11098201, -0.39729428],\n",
       "        [ 0.6124302 ,  0.41497627, -0.03895677, ..., -0.1086052 ,\n",
       "         -0.07638364, -0.40083417]],\n",
       "\n",
       "       [[ 0.06592453, -0.1397495 , -0.28627416, ..., -0.11163557,\n",
       "         -0.16018298, -0.38656414],\n",
       "        [ 0.0914934 , -0.11707819, -0.35830873, ..., -0.06723601,\n",
       "         -0.21682593, -0.3982157 ],\n",
       "        [ 0.07669097, -0.0502784 , -0.40560335, ..., -0.02797765,\n",
       "         -0.17593586, -0.39632833],\n",
       "        ...,\n",
       "        [ 0.5895142 ,  0.46175838, -0.04697297, ..., -0.18553887,\n",
       "         -0.15179548, -0.3481729 ],\n",
       "        [ 0.611561  ,  0.45008704, -0.07461773, ..., -0.15727508,\n",
       "         -0.11098201, -0.39729428],\n",
       "        [ 0.6124302 ,  0.41497627, -0.03895677, ..., -0.1086052 ,\n",
       "         -0.07638364, -0.40083417]]], dtype=float32)"
      ]
     },
     "execution_count": 15,
     "metadata": {},
     "output_type": "execute_result"
    }
   ],
   "source": [
    "model1.encode(test)"
   ]
  },
  {
   "cell_type": "code",
   "execution_count": null,
   "metadata": {},
   "outputs": [],
   "source": []
  }
 ],
 "metadata": {
  "kernelspec": {
   "display_name": "Poetry via SLURM context_learning",
   "language": "python",
   "name": "jupyter-eg-kernel-slurm-py39-poetry-1i4jb6117"
  }
 },
 "nbformat": 4,
 "nbformat_minor": 2
}
